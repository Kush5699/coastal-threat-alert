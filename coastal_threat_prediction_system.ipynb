{
  "nbformat": 4,
  "nbformat_minor": 0,
  "metadata": {
    "colab": {
      "provenance": []
    },
    "kernelspec": {
      "name": "python3",
      "display_name": "Python 3"
    },
    "language_info": {
      "name": "python"
    }
  },
  "cells": [
    {
      "cell_type": "markdown",
      "source": [
        "Data Preprocessing\n"
      ],
      "metadata": {
        "id": "o85pvJPGqnBx"
      }
    },
    {
      "cell_type": "code",
      "execution_count": 65,
      "metadata": {
        "colab": {
          "base_uri": "https://localhost:8080/"
        },
        "id": "3x-_T17RprBj",
        "outputId": "8b47e588-3bda-44e3-f69e-991e2cca5112"
      },
      "outputs": [
        {
          "output_type": "stream",
          "name": "stdout",
          "text": [
            "Train shape: (20600, 14)\n",
            "Test shape: (1100, 14)\n"
          ]
        }
      ],
      "source": [
        "import pandas as pd\n",
        "from sklearn.model_selection import train_test_split\n",
        "from sklearn.preprocessing import LabelEncoder, StandardScaler\n",
        "from imblearn.over_sampling import SMOTE\n",
        "\n",
        "\n",
        "df = pd.read_csv(\"/content/coastal_historical_india_expanded.csv\")\n",
        "\n",
        "\n",
        "features = [\n",
        "    \"wind_speed_kmh\",\"pressure_hpa\",\"humidity_pct\",\"rainfall_mm\",\"air_temp_c\",\n",
        "    \"tide_height_m\",\"wave_height_m\",\"sst_c\",\"salinity_ppt\",\n",
        "    \"chlorophyll_mg_m3\",\"turbidity_ntu\",\"month\",\"region\",\"season\"\n",
        "]\n",
        "target = \"threat_type\"\n",
        "\n",
        "X = df[features].copy()\n",
        "y = df[target]\n",
        "\n",
        "\n",
        "le_region = LabelEncoder()\n",
        "X[\"region\"] = le_region.fit_transform(X[\"region\"])\n",
        "\n",
        "le_season = LabelEncoder()\n",
        "X[\"season\"] = le_season.fit_transform(X[\"season\"])\n",
        "\n",
        "le_target = LabelEncoder()\n",
        "y_encoded = le_target.fit_transform(y)\n",
        "\n",
        "\n",
        "X_train, X_test, y_train, y_test = train_test_split(\n",
        "    X, y_encoded, test_size=0.2, random_state=42, stratify=y_encoded\n",
        ")\n",
        "\n",
        "\n",
        "smote = SMOTE(random_state=42,k_neighbors=1)\n",
        "X_train_balanced, y_train_balanced = smote.fit_resample(X_train, y_train)\n",
        "\n",
        "\n",
        "scaler = StandardScaler()\n",
        "X_train_scaled = scaler.fit_transform(X_train_balanced)\n",
        "X_test_scaled = scaler.transform(X_test)\n",
        "\n",
        "\n",
        "\"\"\"import joblib\n",
        "joblib.dump(scaler, \"scaler.pkl\")\n",
        "joblib.dump(le_target, \"label_encoder.pkl\")\n",
        "joblib.dump(le_region, \"region_encoder.pkl\")|\n",
        "joblib.dump(le_season, \"season_encoder.pkl\")\"\"\"\n",
        "\n",
        "print(\"Train shape:\", X_train_scaled.shape)\n",
        "print(\"Test shape:\", X_test_scaled.shape)\n"
      ]
    },
    {
      "cell_type": "code",
      "source": [
        "import xgboost as xgb\n",
        "from sklearn.metrics import accuracy_score, classification_report, confusion_matrix\n",
        "import joblib\n",
        "\n",
        "\n",
        "X_train_scaled, X_test_scaled, y_train_balanced, y_test = X_train_scaled, X_test_scaled, y_train_balanced, y_test\n",
        "\n",
        "\n",
        "xgb_model = xgb.XGBClassifier(\n",
        "    n_estimators=1000,\n",
        "    learning_rate=0.05,\n",
        "    max_depth=6,\n",
        "    subsample=0.8,\n",
        "    colsample_bytree=0.8,\n",
        "    eval_metric='mlogloss',\n",
        "    random_state=42\n",
        ")\n",
        "\n",
        "\n",
        "xgb_model.fit(X_train_scaled, y_train_balanced)\n",
        "\n",
        "y_pred = xgb_model.predict(X_test_scaled)\n",
        "\n",
        "# 4. Model Evaluation\n",
        "print(\"\\n XGBoost Results:\")\n",
        "print(\"Accuracy:\", accuracy_score(y_test, y_pred))\n",
        "print(classification_report(y_test, y_pred, target_names=le_target.classes_,zero_division=0))\n",
        "print(\"Confusion Matrix:\\n\", confusion_matrix(y_test, y_pred))\n",
        "\n",
        "# 5. Save the model, scaler, and label encoders\n",
        "\"\"\"joblib.dump(xgb_model, \"coastal_threat_xgb_model.pkl\")\n",
        "joblib.dump(scaler, \"scaler.pkl\")\n",
        "joblib.dump(le_target, \"label_encoder.pkl\")\n",
        "joblib.dump(le_region, \"region_encoder.pkl\")\n",
        "joblib.dump(le_season, \"season_encoder.pkl\")\"\"\"\n",
        "#print(\"\\n✅ XGBoost Model, Preprocessors Saved!\")\n"
      ],
      "metadata": {
        "colab": {
          "base_uri": "https://localhost:8080/",
          "height": 417
        },
        "id": "DGUfiBHNqx8P",
        "outputId": "9fb4ef58-7717-49af-f3d1-f3a9aac019a9"
      },
      "execution_count": 66,
      "outputs": [
        {
          "output_type": "stream",
          "name": "stdout",
          "text": [
            "\n",
            " XGBoost Results:\n",
            "Accuracy: 0.9427272727272727\n",
            "              precision    recall  f1-score   support\n",
            "\n",
            " Algal Bloom       0.00      0.00      0.00        18\n",
            "     Cyclone       0.00      0.00      0.00         1\n",
            "     Erosion       0.81      0.43      0.57        30\n",
            "   No Threat       0.95      0.99      0.97      1030\n",
            "   Pollution       0.00      0.00      0.00        21\n",
            "\n",
            "    accuracy                           0.94      1100\n",
            "   macro avg       0.35      0.29      0.31      1100\n",
            "weighted avg       0.91      0.94      0.92      1100\n",
            "\n",
            "Confusion Matrix:\n",
            " [[   0    0    0   18    0]\n",
            " [   0    0    0    1    0]\n",
            " [   0    0   13   17    0]\n",
            " [   2    0    3 1024    1]\n",
            " [   0    0    0   21    0]]\n"
          ]
        },
        {
          "output_type": "execute_result",
          "data": {
            "text/plain": [
              "'joblib.dump(xgb_model, \"coastal_threat_xgb_model.pkl\")\\njoblib.dump(scaler, \"scaler.pkl\")\\njoblib.dump(le_target, \"label_encoder.pkl\")\\njoblib.dump(le_region, \"region_encoder.pkl\")\\njoblib.dump(le_season, \"season_encoder.pkl\")'"
            ],
            "application/vnd.google.colaboratory.intrinsic+json": {
              "type": "string"
            }
          },
          "metadata": {},
          "execution_count": 66
        }
      ]
    },
    {
      "cell_type": "code",
      "source": [],
      "metadata": {
        "id": "8vdQpret0aCF"
      },
      "execution_count": 62,
      "outputs": []
    },
    {
      "cell_type": "code",
      "source": [],
      "metadata": {
        "id": "REYdJQJK33LP"
      },
      "execution_count": null,
      "outputs": []
    }
  ]
}